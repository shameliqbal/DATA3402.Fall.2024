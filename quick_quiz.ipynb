{
  "nbformat": 4,
  "nbformat_minor": 0,
  "metadata": {
    "colab": {
      "provenance": []
    },
    "kernelspec": {
      "name": "python3",
      "display_name": "Python 3"
    },
    "language_info": {
      "name": "python"
    }
  },
  "cells": [
    {
      "cell_type": "markdown",
      "source": [
        "### Quick Quiz\n",
        "\n",
        "Can you rewrite `create_new_args` as a two lines of code using functional programming, list comprehensions, and shortcuts? How about a single line?"
      ],
      "metadata": {
        "id": "Om2enGmvrvCz"
      }
    },
    {
      "cell_type": "code",
      "source": [
        "def create_new_args_0(args):\n",
        "    max_len = max(map(len,\n",
        "                      filter(lambda x: isinstance(x,list),\n",
        "                        args)))\n",
        "##Rewritten with 2 lines of code\n",
        "    max_len = max(len(a) for a in args if isinstance(a, list))\n",
        "    return [a if isinstance(a, list) and len(a) == max_len else [a] * max_len for a in args]\n"
      ],
      "metadata": {
        "id": "jEgXnFdWr1_K"
      },
      "execution_count": 13,
      "outputs": []
    },
    {
      "cell_type": "code",
      "source": [
        "create_new_args_0([[1,2],[3,4],5])"
      ],
      "metadata": {
        "colab": {
          "base_uri": "https://localhost:8080/"
        },
        "id": "myPwVlDZsBHQ",
        "outputId": "0c13a60a-4a74-4c9f-b8b8-0cbf7c00b1a6"
      },
      "execution_count": 11,
      "outputs": [
        {
          "output_type": "execute_result",
          "data": {
            "text/plain": [
              "[[1, 2], [3, 4], [5, 5]]"
            ]
          },
          "metadata": {},
          "execution_count": 11
        }
      ]
    },
    {
      "cell_type": "code",
      "source": [
        "create_new_args_0([[1,2],[3,4,5],5])"
      ],
      "metadata": {
        "colab": {
          "base_uri": "https://localhost:8080/"
        },
        "id": "wyKrJ3xxsHH0",
        "outputId": "95d62078-a318-4b68-e8ce-211ee96c7a3c"
      },
      "execution_count": 12,
      "outputs": [
        {
          "output_type": "execute_result",
          "data": {
            "text/plain": [
              "[[[1, 2], [1, 2], [1, 2]], [3, 4, 5], [5, 5, 5]]"
            ]
          },
          "metadata": {},
          "execution_count": 12
        }
      ]
    }
  ]
}