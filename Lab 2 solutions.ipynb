{
  "cells": [
    {
      "cell_type": "markdown",
      "metadata": {
        "id": "vpRUwtGhYuww"
      },
      "source": [
        "## Lab 2- Tic Tac Toe\n",
        "\n",
        "In this lab your will build a n x n Tic Tac Toe game. As you do the exercises, make sure your solutions work for any size Tic Tac Toe game."
      ]
    },
    {
      "cell_type": "markdown",
      "metadata": {
        "id": "KmWpMZ-RYuwz"
      },
      "source": [
        "*Exercise 1:* Write a function that creates an n by n matrix (of list of lists) which will represent the state of a Tie Tac Toe game. Let 0, 1, and 2 represent empty, \"X\", and \"O\", respectively.\n"
      ]
    },
    {
      "cell_type": "code",
      "execution_count": null,
      "metadata": {
        "collapsed": true,
        "id": "RAMyx5jJYuw0"
      },
      "outputs": [],
      "source": [
        "import random\n",
        "\n",
        "def create_tic_tac_toe_matrix(n, num_x, num_o):\n",
        "\n",
        "    # Initialize an n x n matrix with 0\n",
        "    matrix = [[0 for _ in range(n)] for _ in range(n)]\n",
        "\n",
        "    # List to store positions of X and O\n",
        "    positions = [(i, j) for i in range(n) for j in range(n)]\n",
        "\n",
        "    # Shuffle positions to randomly place X and O\n",
        "    random.shuffle(positions)\n",
        "\n",
        "    # Place num_x \"X\" (1)\n",
        "    for i in range(num_x):\n",
        "        if i < len(positions):\n",
        "            x, y = positions[i]\n",
        "            matrix[x][y] = 1\n",
        "\n",
        "    # Place num_o \"O\" (2)\n",
        "    for i in range(num_o):\n",
        "        if i + num_x < len(positions):\n",
        "            x, y = positions[num_x + i]\n",
        "            matrix[x][y] = 2\n",
        "\n",
        "    return matrix\n",
        "\n",
        "n = 3  # Size of the matrix\n",
        "num_x = 3  # Number of \"X\" to place\n",
        "num_o = 2  # Number of \"O\" to place\n",
        "matrix = create_tic_tac_toe_matrix(n, num_x, num_o)\n",
        "\n",
        "# Print the matrix\n",
        "for row in matrix:\n",
        "    print(row)"
      ]
    },
    {
      "cell_type": "markdown",
      "metadata": {
        "id": "HGNdobcBYuw2"
      },
      "source": [
        "*Exercise 2:* Write a function that takes 2 integers `n` and `m` as input and draws a `n` by `m` game board. For example the following is a 3x3 board:\n",
        "```\n",
        "   --- --- ---\n",
        "  |   |   |   |\n",
        "   --- --- ---  \n",
        "  |   |   |   |\n",
        "   --- --- ---  \n",
        "  |   |   |   |\n",
        "   --- --- ---\n",
        "   ```"
      ]
    },
    {
      "cell_type": "code",
      "execution_count": null,
      "metadata": {
        "collapsed": true,
        "id": "t5NReuoSYuw2"
      },
      "outputs": [],
      "source": [
        "# Write you solution here\n",
        "def draw_game_board(n, m):\n",
        "\n",
        "    # Top border\n",
        "    print('+' + ('---+' * m))\n",
        "\n",
        "    # Rows\n",
        "    for _ in range(n):\n",
        "        print('|' + ('   |' * m))\n",
        "        print('+' + ('---+' * m))\n",
        "\n",
        "# Example usage\n",
        "n = 3  # Number of rows\n",
        "m = 3  # Number of columns\n",
        "draw_game_board(n, m)"
      ]
    },
    {
      "cell_type": "code",
      "execution_count": null,
      "metadata": {
        "collapsed": true,
        "id": "7FoJOsuJYuw3"
      },
      "outputs": [],
      "source": [
        "# Test your solution here"
      ]
    },
    {
      "cell_type": "markdown",
      "metadata": {
        "id": "J8P1RhUfYuw3"
      },
      "source": [
        "*Exercise 3:* Modify exercise 2, so that it takes a matrix of the form from exercise 1 and draws a tic-tac-tie board with \"X\"s and \"O\"s.  "
      ]
    },
    {
      "cell_type": "code",
      "execution_count": null,
      "metadata": {
        "collapsed": true,
        "id": "keT-T3NYYuw4"
      },
      "outputs": [],
      "source": [
        "def draw_tic_tac_toe_board(board):\n",
        "\n",
        "    # Mapping for cell values\n",
        "    cell_mapping = {0: ' ', 1: 'X', 2: 'O'}\n",
        "\n",
        "    # Number of rows and columns\n",
        "    n = len(board)\n",
        "    m = len(board[0])\n",
        "\n",
        "    # Print top border\n",
        "    print('+' + ('---+' * m))\n",
        "\n",
        "    # Print each row of the board\n",
        "    for row in board:\n",
        "        print('|' + '|'.join(f' {cell_mapping[cell]} ' for cell in row) + '|')\n",
        "        print('+' + ('---+' * m))\n",
        "\n",
        "# Example usage\n",
        "board = [\n",
        "    [1, 0, 2],\n",
        "    [2, 1, 1],\n",
        "    [0, 0, 0]\n",
        "]\n",
        "\n",
        "draw_tic_tac_toe_board(board)\n"
      ]
    },
    {
      "cell_type": "markdown",
      "metadata": {
        "id": "7C1wtSYxYuw4"
      },
      "source": [
        "*Exercise 4:* Write a function that takes a `n` by `n` matrix representing a tic-tac-toe game, and returns -1, 0, 1, or 2 indicating the game is incomplete, the game is a draw, player 1 has won, or player 2 has one, respectively. Here are some example inputs you can use to test your code:"
      ]
    },
    {
      "cell_type": "code",
      "execution_count": null,
      "metadata": {
        "colab": {
          "base_uri": "https://localhost:8080/"
        },
        "collapsed": true,
        "id": "gTjOnkSLYuw5",
        "outputId": "f886ea51-6877-40f7-da54-449dc3d11340"
      },
      "outputs": [
        {
          "name": "stdout",
          "output_type": "stream",
          "text": [
            "player 1 is the winner\n"
          ]
        }
      ],
      "source": [
        "# Test your solution here\n",
        "def check_winner(matrix):\n",
        "    n = len(matrix)\n",
        "\n",
        "    def check_line(line):\n",
        "        \"\"\"Check if all elements in the line are the same and not 0\"\"\"\n",
        "        if all(x == 1 for x in line):\n",
        "            return 1\n",
        "        if all(x == 2 for x in line):\n",
        "            return 2\n",
        "        return 0\n",
        "\n",
        "    for row in matrix:\n",
        "        result = check_line(row)\n",
        "        if result != 0:\n",
        "            return result\n",
        "\n",
        "    for col in range(n):\n",
        "        result = check_line([matrix[row][col] for row in range(n)])\n",
        "        if result != 0:\n",
        "            return result\n",
        "\n",
        "    diag1 = [matrix[i][i] for i in range(n)]\n",
        "    diag2 = [matrix[i][n-1-i] for i in range(n)]\n",
        "\n",
        "    result = check_line(diag1)\n",
        "    if result != 0:\n",
        "        return result\n",
        "\n",
        "    result = check_line(diag2)\n",
        "    if result != 0:\n",
        "        return result\n",
        "\n",
        "    # Check if there are any empty cells\n",
        "    if any(matrix[row][col] == 0 for row in range(n) for col in range(n)):\n",
        "        return -1  # Game is incomplete\n",
        "\n",
        "    return 0  # Game is a draw\n",
        "\n",
        "matrix = [\n",
        "    [1, 1, 1],\n",
        "    [2, 2, 0],\n",
        "    [2, 1, 2]\n",
        "]\n",
        "result = check_winner(matrix)\n",
        "print(\"player \" + str(result) + \" is the winner\")"
      ]
    },
    {
      "cell_type": "code",
      "execution_count": null,
      "metadata": {
        "collapsed": true,
        "id": "rldJAdG5Yuw5"
      },
      "outputs": [],
      "source": [
        "winner_is_2 = [[2, 2, 0],\n",
        "\t[2, 1, 0],\n",
        "\t[2, 1, 1]]\n",
        "\n",
        "winner_is_1 = [[1, 2, 0],\n",
        "\t[2, 1, 0],\n",
        "\t[2, 1, 1]]\n",
        "\n",
        "winner_is_also_1 = [[0, 1, 0],\n",
        "\t[2, 1, 0],\n",
        "\t[2, 1, 1]]\n",
        "\n",
        "no_winner = [[1, 2, 0],\n",
        "\t[2, 1, 0],\n",
        "\t[2, 1, 2]]\n",
        "\n",
        "also_no_winner = [[1, 2, 0],\n",
        "\t[2, 1, 0],\n",
        "\t[2, 1, 0]]"
      ]
    },
    {
      "cell_type": "markdown",
      "metadata": {
        "id": "46x383F5Yuw6"
      },
      "source": [
        "*Exercise 5:* Write a function that takes a game board, player number, and `(x,y)` coordinates and places \"X\" or \"O\" in the correct location of the game board. Make sure that you only allow filling previously empty locations. Return `True` or `False` to indicate successful placement of \"X\" or \"O\"."
      ]
    },
    {
      "cell_type": "code",
      "execution_count": null,
      "metadata": {
        "colab": {
          "base_uri": "https://localhost:8080/"
        },
        "collapsed": true,
        "id": "MaKpUAM3Yuw6",
        "outputId": "6de3d323-8f60-4476-8599-2c930d819eee"
      },
      "outputs": [
        {
          "name": "stdout",
          "output_type": "stream",
          "text": [
            "True\n",
            "[[0, 0, 0], [0, 1, 0], [0, 0, 0]]\n",
            "False\n",
            "[[0, 0, 0], [0, 1, 0], [0, 0, 0]]\n",
            "True\n",
            "[[0, 0, 0], [0, 1, 0], [0, 0, 1]]\n"
          ]
        }
      ],
      "source": [
        "# Write you solution here\n",
        "def place_move(board, player, x, y):\n",
        "\n",
        "    n = len(board)\n",
        "\n",
        "    # Check if coordinates are within bounds\n",
        "    if not (0 <= x < n and 0 <= y < n):\n",
        "        return False\n",
        "\n",
        "    # Check if the cell is empty\n",
        "    if board[x][y] != 0:\n",
        "        return False\n",
        "\n",
        "    # Place the move on the board\n",
        "    board[x][y] = player\n",
        "    return True\n",
        "\n",
        "# Example usage\n",
        "board = [\n",
        "    [0, 0, 0],\n",
        "    [0, 0, 0],\n",
        "    [0, 0, 0]\n",
        "]\n",
        "\n",
        "# Player 1 (\"X\") places a move at (1, 1)\n",
        "print(place_move(board, 1, 1, 1))  # Output: True\n",
        "print(board)  # Output: [[0, 0, 0], [0, 1, 0], [0, 0, 0]]\n",
        "\n",
        "# Player 2 (\"O\") tries to place a move at (1, 1) again (already occupied)\n",
        "print(place_move(board, 2, 1, 1))  # Output: False\n",
        "print(board)  # Output: [[0, 0, 0], [0, 1, 0], [0, 0, 0]]\n",
        "\n",
        "# Player 1 (\"X\") places a move at (2, 2)\n",
        "print(place_move(board, 1, 2, 2))  # Output: True\n",
        "print(board)  # Output: [[0, 0, 0], [0, 1, 0], [0, 0, 1]]"
      ]
    },
    {
      "cell_type": "markdown",
      "metadata": {
        "id": "QzY9gtrZYuw7"
      },
      "source": [
        "*Exercise 6:* Modify Exercise 4 to show column and row labels so that players can specify location using \"A2\" or \"C1\"."
      ]
    },
    {
      "cell_type": "code",
      "execution_count": null,
      "metadata": {
        "colab": {
          "base_uri": "https://localhost:8080/"
        },
        "collapsed": true,
        "id": "alRXTWRLYuw7",
        "outputId": "f24cec0e-9900-41b3-8fcc-e9b723e3bd29"
      },
      "outputs": [
        {
          "name": "stdout",
          "output_type": "stream",
          "text": [
            "  A B C\n",
            "A 1 1 1\n",
            "B 2 2 0\n",
            "C 2 1 2\n",
            "Player 1 (X) is the winner!\n"
          ]
        }
      ],
      "source": [
        "def print_board(matrix):\n",
        "\n",
        "    labels = 'ABCDEFGHIJKLMNOPQRSTUVWXYZ'[:len(matrix)]\n",
        "    print('  ' + ' '.join(labels))\n",
        "    for i, row in enumerate(matrix):\n",
        "        print(labels[i] + ' ' + ' '.join(map(str, row)))\n",
        "\n",
        "def label_to_index(label):\n",
        "    ##Converts a board label like 'A2' to matrix indices.\n",
        "    if len(label) < 2:\n",
        "        return None\n",
        "    row_label = label[0].upper()\n",
        "    col_label = label[1:]\n",
        "    if row_label not in 'ABCDEFGHIJKLMNOPQRSTUVWXYZ' or not col_label.isdigit():\n",
        "        return None\n",
        "    row_index = ord(row_label) - ord('A')\n",
        "    col_index = int(col_label) - 1\n",
        "    return (row_index, col_index) if 0 <= row_index < 26 and 0 <= col_index < 26 else None\n",
        "\n",
        "def check_winner(matrix):\n",
        "    n = len(matrix)\n",
        "\n",
        "    def check_line(line):\n",
        "        \"\"\"Check if all elements in the line are the same and not 0\"\"\"\n",
        "        if all(x == 1 for x in line):\n",
        "            return 1\n",
        "        if all(x == 2 for x in line):\n",
        "            return 2\n",
        "        return 0\n",
        "\n",
        "    for row in matrix:\n",
        "        result = check_line(row)\n",
        "        if result != 0:\n",
        "            return result\n",
        "\n",
        "    for col in range(n):\n",
        "        result = check_line([matrix[row][col] for row in range(n)])\n",
        "        if result != 0:\n",
        "            return result\n",
        "\n",
        "    diag1 = [matrix[i][i] for i in range(n)]\n",
        "    diag2 = [matrix[i][n-1-i] for i in range(n)]\n",
        "\n",
        "    result = check_line(diag1)\n",
        "    if result != 0:\n",
        "        return result\n",
        "\n",
        "    result = check_line(diag2)\n",
        "    if result != 0:\n",
        "        return result\n",
        "\n",
        "    # Check if there are any empty cells\n",
        "    if any(matrix[row][col] == 0 for row in range(n) for col in range(n)):\n",
        "        return -1  # Game is incomplete\n",
        "\n",
        "    return 0  # Game is a draw\n",
        "\n",
        "# Example usage:\n",
        "matrix = [\n",
        "    [1, 1, 1],\n",
        "    [2, 2, 0],\n",
        "    [2, 1, 2]\n",
        "]\n",
        "\n",
        "print_board(matrix)\n",
        "result = check_winner(matrix)\n",
        "if result == -1:\n",
        "    print(\"The game is incomplete.\")\n",
        "elif result == 0:\n",
        "    print(\"The game is a draw.\")\n",
        "elif result == 1:\n",
        "    print(\"Player 1 (X) is the winner!\")\n",
        "elif result == 2:\n",
        "    print(\"Player 2 (O) is the winner!\")\n"
      ]
    },
    {
      "cell_type": "markdown",
      "metadata": {
        "id": "3axN3GSbYuw7"
      },
      "source": [
        "*Exercise 7:* Write a function that takes a board, player number, and location specified as in exercise 6 and then calls exercise 5 to correctly modify the board.  "
      ]
    },
    {
      "cell_type": "code",
      "execution_count": null,
      "metadata": {
        "colab": {
          "base_uri": "https://localhost:8080/"
        },
        "collapsed": true,
        "id": "59PkIqZ1Yuw8",
        "outputId": "e418678c-6586-4e06-b556-819393abda14"
      },
      "outputs": [
        {
          "name": "stdout",
          "output_type": "stream",
          "text": [
            "Move was successfully placed.\n",
            "  A B C\n",
            "A 0 0 0\n",
            "B 0 1 0\n",
            "C 0 0 0\n"
          ]
        }
      ],
      "source": [
        "def place_move(board, player, x, y):\n",
        "\n",
        "    # Check if coordinates are within bounds\n",
        "    if not (0 <= x < len(board) and 0 <= y < len(board[0])):\n",
        "        return False\n",
        "\n",
        "    # Check if the cell is empty\n",
        "    if board[x][y] == 0:\n",
        "        # Place the player's move\n",
        "        board[x][y] = player\n",
        "        return True\n",
        "    else:\n",
        "        # The cell is not empty\n",
        "        return False\n",
        "\n",
        "def label_to_index(label):\n",
        "\n",
        "    if len(label) < 2:\n",
        "        return None\n",
        "    row_label = label[0].upper()\n",
        "    col_label = label[1:]\n",
        "    if row_label not in 'ABCDEFGHIJKLMNOPQRSTUVWXYZ' or not col_label.isdigit():\n",
        "        return None\n",
        "    row_index = ord(row_label) - ord('A')\n",
        "    col_index = int(col_label) - 1\n",
        "    return (row_index, col_index) if 0 <= row_index < 26 and 0 <= col_index < 26 else None\n",
        "\n",
        "def modify_board(board, player, label):\n",
        "\n",
        "    # Convert label to indices\n",
        "    indices = label_to_index(label)\n",
        "    if indices is None:\n",
        "        return False  # Invalid label\n",
        "\n",
        "    x, y = indices\n",
        "    return place_move(board, player, x, y)\n",
        "\n",
        "# Example usage:\n",
        "board = [\n",
        "    [0, 0, 0],\n",
        "    [0, 0, 0],\n",
        "    [0, 0, 0]\n",
        "]\n",
        "\n",
        "player = 1  # Player \"X\"\n",
        "label = 'B2'  # Position to place the move\n",
        "\n",
        "success = modify_board(board, player, label)\n",
        "if success:\n",
        "    print(\"Move was successfully placed.\")\n",
        "else:\n",
        "    print(\"Move could not be placed.\")\n",
        "\n",
        "# Print the updated board\n",
        "def print_board(matrix):\n",
        "    \"\"\"Prints the board with row and column labels.\"\"\"\n",
        "    labels = 'ABCDEFGHIJKLMNOPQRSTUVWXYZ'[:len(matrix)]\n",
        "    print('  ' + ' '.join(labels))\n",
        "    for i, row in enumerate(matrix):\n",
        "        print(labels[i] + ' ' + ' '.join(map(str, row)))\n",
        "\n",
        "print_board(board)\n"
      ]
    },
    {
      "cell_type": "markdown",
      "metadata": {
        "id": "mclbf42yYuw8"
      },
      "source": [
        "*Exercise 8:* Write a function is called with a board and player number, takes input from the player using python's `input`, and modifies the board using your function from exercise 7. Note that you should keep asking for input until you have gotten a valid input that results in a valid move."
      ]
    },
    {
      "cell_type": "code",
      "execution_count": null,
      "metadata": {
        "colab": {
          "base_uri": "https://localhost:8080/"
        },
        "collapsed": true,
        "id": "hYVWBA6KYuw8",
        "outputId": "87cb20cf-ea6d-4719-b5c0-e05084422c1e"
      },
      "outputs": [
        {
          "name": "stdout",
          "output_type": "stream",
          "text": [
            "Player 1, enter your move (e.g., 'A1'): A2\n",
            "Move was successfully placed.\n",
            "  A B C\n",
            "A 0 1 0\n",
            "B 0 0 0\n",
            "C 0 0 0\n"
          ]
        }
      ],
      "source": [
        "def get_valid_move(board, player):\n",
        "\n",
        "    while True:\n",
        "        # Prompt the player for a move\n",
        "        label = input(f\"Player {player}, enter your move (e.g., 'A1'): \").strip().upper()\n",
        "\n",
        "        # Attempt to modify the board with the provided input\n",
        "        success = modify_board(board, player, label)\n",
        "\n",
        "        if success:\n",
        "            print(\"Move was successfully placed.\")\n",
        "            break\n",
        "        else:\n",
        "            print(\"Invalid move. Please try again.\")\n",
        "\n",
        "# Example usage:\n",
        "board = [\n",
        "    [0, 0, 0],\n",
        "    [0, 0, 0],\n",
        "    [0, 0, 0]\n",
        "]\n",
        "\n",
        "player = 1  # Example: Player \"X\"\n",
        "\n",
        "# Get a valid move from the player\n",
        "get_valid_move(board, player)\n",
        "\n",
        "# Print the updated board\n",
        "def print_board(matrix):\n",
        "    \"\"\"Prints the board with row and column labels.\"\"\"\n",
        "    labels = 'ABCDEFGHIJKLMNOPQRSTUVWXYZ'[:len(matrix)]\n",
        "    print('  ' + ' '.join(labels))\n",
        "    for i, row in enumerate(matrix):\n",
        "        print(labels[i] + ' ' + ' '.join(map(str, row)))\n",
        "\n",
        "print_board(board)\n"
      ]
    },
    {
      "cell_type": "markdown",
      "metadata": {
        "id": "uVdW7NpgYuw8"
      },
      "source": [
        "*Exercise 9:* Use all of the previous exercises to implement a full tic-tac-toe game, where an appropriate board is drawn, 2 players are repeatedly asked for a location coordinates of where they wish to place a mark, and the game status is checked until a player wins or a draw occurs."
      ]
    },
    {
      "cell_type": "code",
      "execution_count": null,
      "metadata": {
        "colab": {
          "background_save": true,
          "base_uri": "https://localhost:8080/"
        },
        "collapsed": true,
        "id": "KSR6aVFGYuw8",
        "outputId": "4ec2127a-5a15-4720-85db-1439a34cd4f5"
      },
      "outputs": [
        {
          "output_type": "stream",
          "name": "stdout",
          "text": [
            "  A B C\n",
            "A . . .\n",
            "B . . .\n",
            "C . . .\n"
          ]
        }
      ],
      "source": [
        "def place_move(board, player, x, y):\n",
        "\n",
        "    if not (0 <= x < len(board) and 0 <= y < len(board[0])):\n",
        "        return False\n",
        "\n",
        "    if board[x][y] == 0:\n",
        "        board[x][y] = player\n",
        "        return True\n",
        "    else:\n",
        "        return False\n",
        "\n",
        "def label_to_index(label):\n",
        "\n",
        "\n",
        "    if len(label) < 2:\n",
        "        return None\n",
        "    row_label = label[0].upper()\n",
        "    col_label = label[1:]\n",
        "    if row_label not in 'ABCDEFGHIJKLMNOPQRSTUVWXYZ' or not col_label.isdigit():\n",
        "        return None\n",
        "    row_index = ord(row_label) - ord('A')\n",
        "    col_index = int(col_label) - 1\n",
        "    return (row_index, col_index) if 0 <= row_index < 26 and 0 <= col_index < 26 else None\n",
        "\n",
        "def modify_board(board, player, label):\n",
        "\n",
        "    indices = label_to_index(label)\n",
        "    if indices is None:\n",
        "        return False\n",
        "\n",
        "    x, y = indices\n",
        "    return place_move(board, player, x, y)\n",
        "\n",
        "def check_winner(matrix):\n",
        "    n = len(matrix)\n",
        "\n",
        "    def check_line(line):\n",
        "        \"\"\"Check if all elements in the line are the same and not 0\"\"\"\n",
        "        if all(x == 1 for x in line):\n",
        "            return 1\n",
        "        if all(x == 2 for x in line):\n",
        "            return 2\n",
        "        return 0\n",
        "\n",
        "    for row in matrix:\n",
        "        result = check_line(row)\n",
        "        if result != 0:\n",
        "            return result\n",
        "\n",
        "    for col in range(n):\n",
        "        result = check_line([matrix[row][col] for row in range(n)])\n",
        "        if result != 0:\n",
        "            return result\n",
        "\n",
        "    diag1 = [matrix[i][i] for i in range(n)]\n",
        "    diag2 = [matrix[i][n-1-i] for i in range(n)]\n",
        "\n",
        "    result = check_line(diag1)\n",
        "    if result != 0:\n",
        "        return result\n",
        "\n",
        "    result = check_line(diag2)\n",
        "    if result != 0:\n",
        "        return result\n",
        "\n",
        "    if any(matrix[row][col] == 0 for row in range(n) for col in range(n)):\n",
        "        return -1  # Game is incomplete\n",
        "\n",
        "    return 0  # Game is a draw\n",
        "\n",
        "def print_board(matrix):\n",
        "    ###Prints the board with row and column labels\n",
        "    labels = 'ABCDEFGHIJKLMNOPQRSTUVWXYZ'[:len(matrix)]\n",
        "    symbol_map = {0: '.', 1: 'X', 2: 'O'}\n",
        "    print('  ' + ' '.join(labels))\n",
        "    for i, row in enumerate(matrix):\n",
        "        print(labels[i] + ' ' + ' '.join(symbol_map[cell] for cell in row))\n",
        "\n",
        "def get_valid_move(board, player):\n",
        "\n",
        "    while True:\n",
        "        label = input(f\"Player {player} ({'X' if player == 1 else 'O'}), enter your move (e.g., 'A1'): \").strip().upper()\n",
        "\n",
        "        success = modify_board(board, player, label)\n",
        "\n",
        "        if success:\n",
        "            print(\"Move was successfully placed.\")\n",
        "            break\n",
        "        else:\n",
        "            print(\"Invalid move. Please try again.\")\n",
        "\n",
        "def tic_tac_toe_game():\n",
        "    board = [[0 for _ in range(3)] for _ in range(3)]\n",
        "    current_player = 1\n",
        "\n",
        "    while True:\n",
        "        print_board(board)\n",
        "        get_valid_move(board, current_player)\n",
        "\n",
        "        result = check_winner(board)\n",
        "\n",
        "        if result == 1:\n",
        "            print(\"Player 1 (X) is the winner!\")\n",
        "            break\n",
        "        elif result == 2:\n",
        "            print(\"Player 2 (O) is the winner!\")\n",
        "            break\n",
        "        elif result == 0:\n",
        "            print(\"The game is a draw!\")\n",
        "            break\n",
        "\n",
        "        # Switch players\n",
        "        current_player = 2 if current_player == 1 else 1\n",
        "\n",
        "# Start the game\n",
        "tic_tac_toe_game()\n"
      ]
    },
    {
      "cell_type": "markdown",
      "metadata": {
        "id": "9qcOavdHYuw9"
      },
      "source": [
        "*Exercise 10:* Test that your game works for 5x5 Tic Tac Toe.  "
      ]
    },
    {
      "cell_type": "markdown",
      "metadata": {
        "id": "b8my_fYoYuw9"
      },
      "source": [
        "*Exercise 11:* (Advanced / Challenge) Develop a version of the game where one player is the computer. Note that you don't need to do an extensive seach for the best move. You can have the computer simply protect against loosing and otherwise try to win with straight or diagonal patterns."
      ]
    },
    {
      "cell_type": "code",
      "execution_count": null,
      "metadata": {
        "collapsed": true,
        "id": "Jxys3fzCYuw9"
      },
      "outputs": [],
      "source": [
        "# Write you solution here"
      ]
    },
    {
      "cell_type": "code",
      "execution_count": null,
      "metadata": {
        "collapsed": true,
        "id": "sbNgeiArYuw-"
      },
      "outputs": [],
      "source": [
        "# Test your solution here"
      ]
    }
  ],
  "metadata": {
    "colab": {
      "provenance": []
    },
    "kernelspec": {
      "display_name": "Python 3 (ipykernel)",
      "language": "python",
      "name": "python3"
    },
    "language_info": {
      "codemirror_mode": {
        "name": "ipython",
        "version": 3
      },
      "file_extension": ".py",
      "mimetype": "text/x-python",
      "name": "python",
      "nbconvert_exporter": "python",
      "pygments_lexer": "ipython3",
      "version": "3.9.6"
    }
  },
  "nbformat": 4,
  "nbformat_minor": 0
}