{
  "cells": [
    {
      "cell_type": "markdown",
      "metadata": {
        "id": "J1vGv9caxj5_"
      },
      "source": [
        "# Lab 3\n",
        "\n",
        "In this lab we will become familiar with distributions, histograms, and functional programming. Do not use numpy or any other library for this lab.\n",
        "\n",
        "Before that, lets get setup homework submission and submit your previous lab.  \n",
        "\n",
        "## Working on the Command-line.\n",
        "\n",
        "It is important for you to learn to work on the command line and to be familiar with the Unix environment (e.g. Linux, Mac OS, or Windows Linux Subsystem). We'll go over working on the command-line in detail later in the course.\n",
        "\n",
        "You are required to submit your work in this course via GitHub. Today in class, you will setup everything on the command-line.\n",
        "\n",
        "### Command-line basics\n",
        "\n",
        "There is plenty of material online that will help you figure out how to do various tasks on the command line. Commands you may need to know today:\n",
        "\n",
        "* `ls`: lists the contents of the current directory.\n",
        "* `pwd`: prints the path of the current directory.\n",
        "* `cd <directory>`: changes your current directory to the specified directory.\n",
        "* `cd ..`: changes current directory to the previous directory. Basically steps out of the current directory to the directory containing the current directory.\n",
        "* `mkdir <directory>`: create a new directory with the specified name.\n",
        "* `rmdir <directory>`: removes the specified directory. Note it has to be empty.\n",
        "* `rm <filename>`: deletes the specified file.\n",
        "* `mv <filename 1> <filename 1>`: Moves or renames a file.\n",
        "* `cp <filename 1> <filename 2>`: copies an file. If you just provide a path to a directory, it copies the file into that directory with the same filename. If you specifiy a new filename, the copy has a new name. For example `cp File.1.txt File.2.txt` creates a copy of `File.1.txt` with the name `File.2.txt`. Meanwhile `cp File.1.txt my_directory`, where `my_directory` is a directory, creates a copy of `File.1.txt` in directory `my_directory` with the name `File.1.txt`.\n",
        "\n",
        "For reference, here are some example resources I found by googling:\n",
        "\n",
        "* Paths and Wildcards: https://www.warp.dev/terminus/linux-wildcards\n",
        "* Basic commands like copy: https://kb.iu.edu/d/afsk\n",
        "* General introduction to shell: https://github-pages.ucl.ac.uk/RCPSTrainingMaterials/HPCandHTCusingLegion/2_intro_to_shell.html\n",
        "* Manual pages: https://www.geeksforgeeks.org/linux-man-page-entries-different-types/?ref=ml_lbp\n",
        "* Chaining commands: https://www.geeksforgeeks.org/chaining-commands-in-linux/?ref=ml_lbp\n",
        "* Piping: https://www.geeksforgeeks.org/piping-in-unix-or-linux/\n",
        "* Using sed: https://www.geeksforgeeks.org/sed-command-linux-set-2/?ref=ml_lbp\n",
        "* Various Unix commands: https://www.geeksforgeeks.org/linux-commands/?ref=lbp\n",
        "* Cheat sheets:\n",
        "    * https://www.stationx.net/unix-commands-cheat-sheet/\n",
        "    * https://cheatography.com/davechild/cheat-sheets/linux-command-line/\n",
        "    * https://www.theknowledgeacademy.com/blog/unix-commands-cheat-sheet/\n",
        "    \n",
        "These aren't necessarily the best resources. Feel free to search for better ones. Also, don't forget that Unix has built-in manual pages for all of its commands. Just type `man <command>` at the command prompt. Use the space-bar to scroll through the documentation and \"q\" to exit.\n",
        "\n",
        "\n",
        "### Setup and Submission\n",
        "\n",
        "Our course repository is public. The instructions here aim to have you setup a fork of the course repository. Unfortunately because you are forking a public repo, your fork will have to be public also.\n",
        "\n",
        "You should be familiar with git from the first semester of this course. I assume that you all have github accounts and have setup things to be able to [push to github using ssh](https://docs.github.com/en/github/authenticating-to-github/connecting-to-github-with-ssh). The instuctions here lead you to:\n",
        "\n",
        "We'll overview what you will do before going through step by step instructions.\n",
        "\n",
        "1. Setup:\n",
        "    1. Fork the class repository. Some directions in [fork-a-repo](https://docs.github.com/en/github/getting-started-with-github/fork-a-repo).\n",
        "    1. Create a directory on your personal system where you will keep all course materials.\n",
        "    1. In that directory, clone your fork of the repository.\n",
        "    1. Using `git remote`, set the upstream to be the class repo, so you can pull from the class and push to your fork.\n",
        "\n",
        "1. Submission:\n",
        "    1. Copy your solutions into the appropriate directory (e.g. into `Labs/Lab.2/`) and with appropriate filename `Lab.2.solution.ipynb'.\n",
        "    1. Commit / push your solutions.\n",
        "    1. Grant access to course instructors.\n",
        "\n",
        "Below are step by step instructions with examples (including example directory naming convention). Feel free to modify things as you see fit.\n",
        "\n",
        "#### Setup\n",
        "You should only need to follow this instructions once. Here are some useful git commands:\n",
        "\n",
        "* Git help: `git help`\n",
        "* Git remote help: `git help remote`\n",
        "* Check remote status: `git remote -v`\n",
        "* Add a remote: `git remote add <stream name> <repo URL>`\n",
        "* Add a remove: `git remote remove <stream name>`\n",
        "\n",
        "Steps:\n",
        "1. In a browser, log into GitHub and navigate to the [course repository](https://github.com/UTA-DataScience/DATA3402.Fall.2024).\n",
        "1. On the top right of the page, press the fork button to create a new fork into your own GitHub account.\n",
        "1. After successful fork, you should find the browser showing your fork of the course repository. Use the green \"Code\" button to copy path to the repo into your the clipboard of your computer.\n",
        "1. Open a shell on your personal computer.\n",
        "1. If you have not done so already, create a new directory/folder where you will keep all course material to navigate to it. For example: `mkdir Data-3402` and `cd Data-3402`.\n",
        "1. Clone your fork of the repository using `git clone` followed by the path you copied into your clipboard. (copy/paste)\n",
        "1. Paste the URL to your fork in the worksheet for the TAs and instructors.\n",
        "1. Now go into the directory of your clone (`cd DATA3402.Fall.2024`).\n",
        "1. Type `git remote -v` to see the current setup for fetch and pull.\n",
        "1. Note the URL you see. This should be the same as what you used for your clone for both push and fetch.\n",
        "1. Delete the origin remote using `git remote remove origin`.\n",
        "1. Add the course repo as your remote using `git remote add origin https://github.com/UTA-DataScience/DATA3402.Fall.2024.git`.\n",
        "1. Change the push to point to your fork. This means you will need the URL to your clone we copied earlier and confirmed as the original origin. The command will look something like: `git remote set-url --push origin  https://github.com/XXXXXX/DATA3402.Fall.2024.git`, where XXXXX is your username on GitHub.\n",
        "1. Note that if you setup everything correctly, you now should be able to do `git pull` to get updates from the course repo, and do `git push` to push your commits into your own fork.\n",
        "\n",
        "### Submission\n",
        "These instructions outline how you submit files. Some useful commands:\n",
        "* To add a file to local repository: `git add <file>`.\n",
        "* To commit all changed files into local repository: `git -a -m \"A message\"`. You need to provide some comment when you commit.\n",
        "* To push the commited files from the local repository to GitHub: `git push`.\n",
        "* To get updates from GitHub: `git pull`.\n",
        "\n",
        "Steps:\n",
        "1. To submit your labs, navigate to your clone of your fork of the course repository.\n",
        "1. Use `git pull` to make sure you have the latest updates.\n",
        "1. Make sure your copy of the lab your are working on is in the appropriate place in this clone. That means if you have the file elsewhere, copy it to the same directory in your clone of your fork.\n",
        "1. Note that in order to avoid future conflicts, you should always name your solution differently than the original file in the class repo. For example if your file is still named `Lab.2.ipynb` you should rename it using the `mv` command: `mv Lab.2.ipynb Lab.2.solution.ipynb`.\n",
        "1. Add and files you wish to submit into the repo. For example: `git add Labs/Lab.2/Lab.2.solution.ipynb`\n",
        "1. Commit any changes: `git commit -a -m \"Lab 2 updates\"`\n",
        "1. Push your changes: `git push`\n",
        "1. Check on github website that your solutions have been properly submitted.\n",
        "\n",
        "Before you leave the session today, make sure your GitHub Repo is setup. If you need to work further on your lab, navigate jupyter to the copy of the lab you just submitted and work there. Once done, repeat the commit and push commands to submit your updated solution. Note that lab 2 is due by midnight Monday 9/8/2024.\n"
      ]
    },
    {
      "cell_type": "markdown",
      "metadata": {
        "id": "37rOVBbOxj6E"
      },
      "source": [
        "### Uniform Distribution\n",
        "Lets start with generating some fake random data. You can get a random number between 0 and 1 using the python random module as follow:"
      ]
    },
    {
      "cell_type": "code",
      "execution_count": null,
      "metadata": {
        "id": "48ki7KVZxj6F"
      },
      "outputs": [],
      "source": [
        "import random\n",
        "x=random.random()\n",
        "print(\"The Value of x is\", x)"
      ]
    },
    {
      "cell_type": "markdown",
      "metadata": {
        "id": "trP0ESqtxj6H"
      },
      "source": [
        "Everytime you call random, you will get a new number.\n",
        "\n",
        "*Exercise 1:* Using random, write a function `generate_uniform(N, mymin, mymax)`, that returns a python list containing N random numbers between specified minimum and maximum value. Note that you may want to quickly work out on paper how to turn numbers between 0 and 1 to between other values."
      ]
    },
    {
      "cell_type": "code",
      "execution_count": null,
      "metadata": {
        "id": "lOYIb83_xj6H"
      },
      "outputs": [],
      "source": [
        "# Skeleton\n",
        "def generate_uniform(N,x_min,x_max):\n",
        "    out = []\n",
        "    ### BEGIN SOLUTION\n",
        "\n",
        "    # Fill in your solution here\n",
        "\n",
        "    ### END SOLUTION\n",
        "    return out"
      ]
    },
    {
      "cell_type": "code",
      "execution_count": 1,
      "metadata": {
        "colab": {
          "base_uri": "https://localhost:8080/"
        },
        "id": "6SCRknGPxj6I",
        "outputId": "20905a4e-a4bf-4496-f9d5-65141207f464"
      },
      "outputs": [
        {
          "output_type": "stream",
          "name": "stdout",
          "text": [
            "[38.16145229679864, 74.30052184313453, 2.6652236546936137, 99.09193784935512, 14.559038445553838, 18.76029788270135, 47.4039098332899, 48.11360278175997, 70.43366138421604, 56.589415280699136]\n"
          ]
        }
      ],
      "source": [
        "# Test your solution here\n",
        "import random\n",
        "\n",
        "def generate_uniform(N, mymin, mymax):\n",
        "    return [random.uniform(mymin, mymax) for _ in range(N)]\n",
        "\n",
        "random_numbers = generate_uniform(10, 1, 100)\n",
        "print(random_numbers)"
      ]
    },
    {
      "cell_type": "markdown",
      "metadata": {
        "id": "8fJ0iuH1xj6I"
      },
      "source": [
        "*Exercise 2a:*\n",
        "Write a function that computes the mean of values in a list. Recall the equation for the mean of a random variable $\\bf{x}$ computed on a data set of $n$ values $\\{ x_i \\} = \\{x_1, x_2, ..., x_n\\}$  is ${\\bf\\bar{x}} = \\frac{1}{n} \\sum_i^n x_i$."
      ]
    },
    {
      "cell_type": "code",
      "execution_count": null,
      "metadata": {
        "id": "fqpM3ULvxj6J"
      },
      "outputs": [],
      "source": [
        "# Skeleton\n",
        "def mean(Data):\n",
        "    m=0.\n",
        "\n",
        "    ### BEGIN SOLUTION\n",
        "\n",
        "    # Fill in your solution here\n",
        "\n",
        "    ### END SOLUTION\n",
        "\n",
        "    return m"
      ]
    },
    {
      "cell_type": "code",
      "execution_count": 2,
      "metadata": {
        "colab": {
          "base_uri": "https://localhost:8080/"
        },
        "id": "cbcNm5u-xj6K",
        "outputId": "98175b4c-96fd-4977-d58b-807aa7b5f52a"
      },
      "outputs": [
        {
          "output_type": "stream",
          "name": "stdout",
          "text": [
            "30.0\n"
          ]
        }
      ],
      "source": [
        "# Test your solution here\n",
        "def compute_mean(values):\n",
        "    if not values:\n",
        "        return 0  ###Return 0 or handle empty list as needed\n",
        "    total_sum = sum(values)\n",
        "    count = len(values)\n",
        "    mean = total_sum / count\n",
        "    return mean\n",
        "\n",
        "data = [10, 20, 30, 40, 50]\n",
        "mean_value = compute_mean(data)\n",
        "print(mean_value)  # Output: 30.0"
      ]
    },
    {
      "cell_type": "markdown",
      "metadata": {
        "id": "Hrp-BJmMxj6K"
      },
      "source": [
        "*Exercise 2b:*\n",
        "Write a function that computes the variance of values in a list. Recall the equation for the variance of a random variable $\\bf{x}$ computed on a data set of $n$ values $\\{ x_i \\} = \\{x_1, x_2, ..., x_n\\}$  is ${\\bf\\langle x \\rangle} = \\frac{1}{n} \\sum_i^n (x_i - {\\bf\\bar{x}})$."
      ]
    },
    {
      "cell_type": "code",
      "execution_count": null,
      "metadata": {
        "id": "GEOfvd4axj6K"
      },
      "outputs": [],
      "source": [
        "# Skeleton\n",
        "def variance(Data):\n",
        "    m=0.\n",
        "\n",
        "    ### BEGIN SOLUTION\n",
        "\n",
        "    # Fill in your solution here\n",
        "\n",
        "    ### END SOLUTION\n",
        "\n",
        "    return m"
      ]
    },
    {
      "cell_type": "code",
      "execution_count": 3,
      "metadata": {
        "colab": {
          "base_uri": "https://localhost:8080/"
        },
        "id": "8Q7PjwM-xj6L",
        "outputId": "b6a1018f-47e0-4f6b-d007-a8801d5f0023"
      },
      "outputs": [
        {
          "output_type": "stream",
          "name": "stdout",
          "text": [
            "200.0\n"
          ]
        }
      ],
      "source": [
        "# Test your solution here\n",
        "def compute_mean(values):\n",
        "    if not values:\n",
        "        return 0  ###Handle empty list case\n",
        "    return sum(values) / len(values)\n",
        "\n",
        "def compute_variance(values):\n",
        "    if not values:\n",
        "        return 0\n",
        "    mean = compute_mean(values)\n",
        "    squared_diffs = [(x - mean) ** 2 for x in values]\n",
        "    variance = sum(squared_diffs) / len(values)\n",
        "    return variance\n",
        "\n",
        "data = [10, 20, 30, 40, 50]\n",
        "variance_value = compute_variance(data)\n",
        "print(variance_value)"
      ]
    },
    {
      "cell_type": "markdown",
      "metadata": {
        "id": "SwiiPeAjxj6L"
      },
      "source": [
        "## Histogramming"
      ]
    },
    {
      "cell_type": "markdown",
      "metadata": {
        "id": "t38Vhgvmxj6L"
      },
      "source": [
        "*Exercise 3:* Write a function that bins the data so that you can create a histogram. An example of how to implement histogramming is the following logic:\n",
        "\n",
        "* User inputs a list of values `x` and optionally `n_bins` which defaults to 10.\n",
        "* If not supplied, find the minimum and maximum (`x_min`,`x_max`) of the values in x.\n",
        "* Determine the bin size (`bin_size`) by dividing the range of the function by the number of bins.\n",
        "* Create an empty list of zeros of size `n_bins`, call it `hist`.\n",
        "* Loop over the values in `x`\n",
        "    * Loop over the values in `hist` with index `i`:\n",
        "        * If x is between `x_min+i*bin_size` and `x_min+(i+1)*bin_size`, increment `hist[i].`\n",
        "        * For efficiency, try to use continue to goto the next bin and data point.\n",
        "* Return `hist` and the list corresponding of the bin edges (i.e. of `x_min+i*bin_size`).    "
      ]
    },
    {
      "cell_type": "code",
      "execution_count": null,
      "metadata": {
        "id": "s5tZqjxtxj6L"
      },
      "outputs": [],
      "source": [
        "# Solution\n",
        "def histogram(x,n_bins=10,x_min=None,x_max=None):\n",
        "    ### BEGIN SOLUTION\n",
        "\n",
        "    # Fill in your solution here\n",
        "\n",
        "    ### END SOLUTION\n",
        "\n",
        "    return hist,bin_edges"
      ]
    },
    {
      "cell_type": "code",
      "execution_count": 5,
      "metadata": {
        "colab": {
          "base_uri": "https://localhost:8080/"
        },
        "id": "XxY9ofBvxj6M",
        "outputId": "beb8c1a1-20ef-4fc7-96e8-d5eed66ba465"
      },
      "outputs": [
        {
          "output_type": "stream",
          "name": "stdout",
          "text": [
            "[1, 0, 0, 0, 0, 0, 0, 0, 0, 0, 0, 0, 0, 0, 0, 0, 0, 0, 0, 0, 0, 0, 0, 0, 0, 1, 0, 0, 0, 0, 0, 0, 0, 0, 0, 0, 0, 0, 0, 0, 0, 0, 0, 0, 0, 0, 0, 0, 0, 0, 1, 0, 0, 0, 0, 0, 0, 0, 0, 0, 0, 0, 0, 0, 0, 0, 0, 0, 0, 0, 0, 0, 0, 0, 0, 1, 0, 0, 0, 0, 0, 0, 0, 0, 0, 0, 0, 0, 0, 0, 0, 0, 0, 0, 0, 0, 0, 0, 0, 0]\n"
          ]
        }
      ],
      "source": [
        "# Test your solution here\n",
        "def compute_histogram(x, n_bins=10):\n",
        "    if not x:\n",
        "        return [], []  ###Returns empty lists if input is empty\n",
        "\n",
        "    x_min = min(x)\n",
        "    x_max = max(x)\n",
        "    bin_size = (x_max - x_min) / n_bins\n",
        "\n",
        "    hist = [0] * n_bins\n",
        "    bin_edges = [x_min + i * bin_size for i in range(n_bins + 1)]\n",
        "\n",
        "    for value in x:\n",
        "        for i in range(n_bins):\n",
        "            if x_min + i * bin_size <= value < x_min + (i + 1) * bin_size:\n",
        "                hist[i] += 1\n",
        "                break  # Exit the loop once the bin is found\n",
        "\n",
        "    return hist, bin_edges\n",
        "\n",
        "h,b=compute_histogram(data,100)\n",
        "print(h)"
      ]
    },
    {
      "cell_type": "markdown",
      "metadata": {
        "id": "AAaPYZnJxj6M"
      },
      "source": [
        "*Exercise 4:* Write a function that uses the histogram function in the previous exercise to create a text-based \"graph\". For example the output could look like the following:\n",
        "```\n",
        "[  0,  1] : ######\n",
        "[  1,  2] : #####\n",
        "[  2,  3] : ######\n",
        "[  3,  4] : ####\n",
        "[  4,  5] : ####\n",
        "[  5,  6] : ######\n",
        "[  6,  7] : #####\n",
        "[  7,  8] : ######\n",
        "[  8,  9] : ####\n",
        "[  9, 10] : #####\n",
        "```\n",
        "\n",
        "Where each line corresponds to a bin and the number of `#`'s are proportional to the value of the data in the bin."
      ]
    },
    {
      "cell_type": "code",
      "execution_count": null,
      "metadata": {
        "id": "Vc_THNDmxj6M"
      },
      "outputs": [],
      "source": [
        "# Solution\n",
        "def draw_histogram(x,n_bins,x_min=None,x_max=None,character=\"#\",max_character_per_line=20):\n",
        "    ### BEGIN SOLUTION\n",
        "\n",
        "    # Fill in your solution here\n",
        "\n",
        "    ### END SOLUTION\n",
        "\n",
        "    return hist,bin_edges"
      ]
    },
    {
      "cell_type": "code",
      "execution_count": 9,
      "metadata": {
        "colab": {
          "base_uri": "https://localhost:8080/"
        },
        "id": "Tvv-bXGTxj6M",
        "outputId": "6b908a2b-9589-48ea-ea55-e630997fedde"
      },
      "outputs": [
        {
          "output_type": "stream",
          "name": "stdout",
          "text": [
            "[1.0, 2.6] : ##################################################\n",
            "[2.6, 4.2] : #################################\n",
            "[4.2, 5.8] : #################################\n",
            "[5.8, 7.4] : #################################\n",
            "[7.4, 9.0] : ################\n",
            "[1.0, 1.4] : ##################################################\n",
            "[1.4, 1.8] : \n",
            "[1.8, 2.2] : ##################################################\n",
            "[2.2, 2.6] : ##################################################\n",
            "[2.6, 3.0] : \n",
            "[3.0, 3.4] : ##################################################\n",
            "[3.4, 3.8] : \n",
            "[3.8, 4.2] : ##################################################\n",
            "[4.2, 4.6] : \n",
            "[4.6, 5.0] : \n",
            "[5.0, 5.4] : ##################################################\n",
            "[5.4, 5.8] : ##################################################\n",
            "[5.8, 6.2] : ##################################################\n",
            "[6.2, 6.6] : \n",
            "[6.6, 7.0] : \n",
            "[7.0, 7.4] : ##################################################\n",
            "[7.4, 7.8] : \n",
            "[7.8, 8.2] : ##################################################\n",
            "[8.2, 8.6] : \n",
            "[8.6, 9.0] : \n"
          ]
        }
      ],
      "source": [
        "# Test your solution here\n",
        "def histogram(x, n_bins=10):\n",
        "    # Use the compute_histogram function to get the histogram and bin edges\n",
        "    hist, bin_edges = compute_histogram(x, n_bins)\n",
        "\n",
        "    # Find the maximum count to scale the graph\n",
        "    max_count = max(hist) if hist else 1\n",
        "\n",
        "    # Print the histogram graph\n",
        "    for i in range(n_bins):\n",
        "        # Define the bin range\n",
        "        bin_range = f\"[{bin_edges[i]:>3.1f}, {bin_edges[i+1]:>3.1f}]\"\n",
        "        # Calculate the number of '#' characters\n",
        "        num_hashes = hist[i] * 50 // max_count if max_count > 0 else 0\n",
        "        print(f\"{bin_range} : {'#' * num_hashes}\")\n",
        "\n",
        "    return hist, bin_edges # Added return statement\n",
        "\n",
        "data = [1, 2, 2.5, 3, 4, 5, 5.5, 6, 7, 8, 9]\n",
        "print_histogram_graph(data, n_bins=5)\n",
        "\n",
        "h,b=histogram(data,20)"
      ]
    },
    {
      "cell_type": "markdown",
      "metadata": {
        "id": "f6utKyujxj6N"
      },
      "source": [
        "## Functional Programming\n",
        "\n",
        "*Exercise 5:* Write a function the applies a booling function (that returns true/false) to every element in data, and return a list of indices of elements where the result was true. Use this function to find the indices of entries greater than 0.5."
      ]
    },
    {
      "cell_type": "code",
      "execution_count": null,
      "metadata": {
        "id": "yib40zHIxj6N"
      },
      "outputs": [],
      "source": [
        "def where(mylist,myfunc):\n",
        "    out= []\n",
        "\n",
        "    ### BEGIN SOLUTION\n",
        "\n",
        "    # Fill in your solution here\n",
        "\n",
        "    ### END SOLUTION\n",
        "\n",
        "    return out"
      ]
    },
    {
      "cell_type": "code",
      "execution_count": 12,
      "metadata": {
        "colab": {
          "base_uri": "https://localhost:8080/"
        },
        "id": "dJBmBxIBxj6N",
        "outputId": "aae75deb-5a8b-4801-a734-bc53248e6604"
      },
      "outputs": [
        {
          "output_type": "stream",
          "name": "stdout",
          "text": [
            "[2, 3, 5]\n"
          ]
        }
      ],
      "source": [
        "# Test your solution here\n",
        "def where(mylist, myfunc):\n",
        "    out = []\n",
        "\n",
        "    ### BEGIN SOLUTION\n",
        "    for index, value in enumerate(mylist):\n",
        "        if myfunc(value):\n",
        "            out.append(index)\n",
        "    ### END SOLUTION\n",
        "\n",
        "    return out\n",
        "\n",
        "# Example boolean function to check if a value is greater than 0.5\n",
        "def is_greater_than_half(value):\n",
        "    return value > 0.5\n",
        "\n",
        "data = [0.1, 0.4, 0.6, 0.8, 0.2, 0.9]\n",
        "indices = where(data, is_greater_than_half)\n",
        "print(indices)  # Output: [2, 3, 5]\n",
        "\n"
      ]
    },
    {
      "cell_type": "markdown",
      "metadata": {
        "id": "djIKiQCFxj6N"
      },
      "source": [
        "*Exercise 6:* The `inrange(mymin,mymax)` function below returns a function that tests if it's input is between the specified values. Write corresponding functions that test:\n",
        "* Even\n",
        "* Odd\n",
        "* Greater than\n",
        "* Less than\n",
        "* Equal\n",
        "* Divisible by"
      ]
    },
    {
      "cell_type": "code",
      "execution_count": null,
      "metadata": {
        "id": "JQYcB60Mxj6N"
      },
      "outputs": [],
      "source": [
        "def in_range(mymin,mymax):\n",
        "    def testrange(x):\n",
        "        return x<mymax and x>=mymin\n",
        "    return testrange\n",
        "\n",
        "# Examples:\n",
        "F1=inrange(0,10)\n",
        "F2=inrange(10,20)\n",
        "\n",
        "# Test of in_range\n",
        "print (F1(0), F1(1), F1(10), F1(15), F1(20))\n",
        "print (F2(0), F2(1), F2(10), F2(15), F2(20))\n",
        "\n",
        "print (\"Number of Entries passing F1:\", len(where(data,F1)))\n",
        "print (\"Number of Entries passing F2:\", len(where(data,F2)))"
      ]
    },
    {
      "cell_type": "code",
      "execution_count": null,
      "metadata": {
        "id": "a45pyePMxj6N"
      },
      "outputs": [],
      "source": [
        "### BEGIN SOLUTION\n",
        "\n",
        "    # Fill in your solution here\n",
        "\n",
        "### END SOLUTION"
      ]
    },
    {
      "cell_type": "code",
      "execution_count": 13,
      "metadata": {
        "colab": {
          "base_uri": "https://localhost:8080/"
        },
        "id": "l9zcglsaxj6O",
        "outputId": "a3d48ffb-75a8-409d-d1cd-521cebaf3774"
      },
      "outputs": [
        {
          "output_type": "stream",
          "name": "stdout",
          "text": [
            "Even: [0, 2, 4, 6, 8, 10, 20]\n",
            "Odd: [1, 3, 5, 7, 9, 15]\n",
            "Greater than 5: [6, 7, 8, 9, 10, 15, 20]\n",
            "Less than 5: [0, 1, 2, 3, 4]\n",
            "Equal to 5: [5]\n",
            "Divisible by 3: [0, 3, 6, 9, 15]\n"
          ]
        }
      ],
      "source": [
        "# Test your solution\n",
        "def in_range(mymin, mymax):\n",
        "    def testrange(x):\n",
        "        return x < mymax and x >= mymin\n",
        "    return testrange\n",
        "\n",
        "def is_even(x):\n",
        "    return x % 2 == 0\n",
        "\n",
        "def is_odd(x):\n",
        "    return x % 2 != 0\n",
        "\n",
        "def is_greater_than(threshold):\n",
        "    def test_greater(x):\n",
        "        return x > threshold\n",
        "    return test_greater\n",
        "\n",
        "def is_less_than(threshold):\n",
        "    def test_less(x):\n",
        "        return x < threshold\n",
        "    return test_less\n",
        "\n",
        "def is_equal_to(value):\n",
        "    def test_equal(x):\n",
        "        return x == value\n",
        "    return test_equal\n",
        "\n",
        "def is_divisible_by(divisor):\n",
        "    def test_divisible(x):\n",
        "        return x % divisor == 0\n",
        "    return test_divisible\n",
        "\n",
        "data = [0, 1, 2, 3, 4, 5, 6, 7, 8, 9, 10, 15, 20]\n",
        "\n",
        "###Create function instances\n",
        "even_func = is_even\n",
        "odd_func = is_odd\n",
        "greater_than_func = is_greater_than(5)\n",
        "less_than_func = is_less_than(5)\n",
        "equal_func = is_equal_to(5)\n",
        "divisible_by_func = is_divisible_by(3)\n",
        "\n",
        "### Testing the functions\n",
        "print(\"Even:\", [x for x in data if even_func(x)])\n",
        "print(\"Odd:\", [x for x in data if odd_func(x)])\n",
        "print(\"Greater than 5:\", [x for x in data if greater_than_func(x)])\n",
        "print(\"Less than 5:\", [x for x in data if less_than_func(x)])\n",
        "print(\"Equal to 5:\", [x for x in data if equal_func(x)])\n",
        "print(\"Divisible by 3:\", [x for x in data if divisible_by_func(x)])\n"
      ]
    },
    {
      "cell_type": "markdown",
      "metadata": {
        "id": "87U54KRExj6O"
      },
      "source": [
        "*Exercise 7:* Repeat the previous exercise using `lambda` and the built-in python functions sum and map instead of your solution above."
      ]
    },
    {
      "cell_type": "code",
      "execution_count": 14,
      "metadata": {
        "colab": {
          "base_uri": "https://localhost:8080/"
        },
        "id": "3gWole6Axj6O",
        "outputId": "aa746623-a2fc-4394-d86d-21624993d4ed"
      },
      "outputs": [
        {
          "output_type": "stream",
          "name": "stdout",
          "text": [
            "Even count: 7\n",
            "Odd count: 6\n",
            "Greater than 5 count: 7\n",
            "Less than 5 count: 5\n",
            "Equal to 5 count: 1\n",
            "Divisible by 3 count: 5\n",
            "Even numbers: [0, 2, 4, 6, 8, 10, 20]\n",
            "Odd numbers: [1, 3, 5, 7, 9, 15]\n",
            "Numbers greater than 5: [6, 7, 8, 9, 10, 15, 20]\n",
            "Numbers less than 5: [0, 1, 2, 3, 4]\n",
            "Numbers equal to 5: [5]\n",
            "Numbers divisible by 3: [0, 3, 6, 9, 15]\n"
          ]
        }
      ],
      "source": [
        "### BEGIN SOLUTION\n",
        "data = [0, 1, 2, 3, 4, 5, 6, 7, 8, 9, 10, 15, 20]\n",
        "\n",
        "# Define functions using lambda\n",
        "is_even = lambda x: x % 2 == 0\n",
        "is_odd = lambda x: x % 2 != 0\n",
        "is_greater_than = lambda threshold: lambda x: x > threshold\n",
        "is_less_than = lambda threshold: lambda x: x < threshold\n",
        "is_equal_to = lambda value: lambda x: x == value\n",
        "is_divisible_by = lambda divisor: lambda x: x % divisor == 0\n",
        "\n",
        "# Create function instances\n",
        "greater_than_5 = is_greater_than(5)\n",
        "less_than_5 = is_less_than(5)\n",
        "equal_to_5 = is_equal_to(5)\n",
        "divisible_by_3 = is_divisible_by(3)\n",
        "\n",
        "###Using map and sum to count the occurrences\n",
        "even_count = sum(map(is_even, data))\n",
        "odd_count = sum(map(is_odd, data))\n",
        "greater_than_5_count = sum(map(greater_than_5, data))\n",
        "less_than_5_count = sum(map(less_than_5, data))\n",
        "equal_to_5_count = sum(map(equal_to_5, data))\n",
        "divisible_by_3_count = sum(map(divisible_by_3, data))\n",
        "\n",
        "###Print results\n",
        "print(\"Even count:\", even_count)\n",
        "print(\"Odd count:\", odd_count)\n",
        "print(\"Greater than 5 count:\", greater_than_5_count)\n",
        "print(\"Less than 5 count:\", less_than_5_count)\n",
        "print(\"Equal to 5 count:\", equal_to_5_count)\n",
        "print(\"Divisible by 3 count:\", divisible_by_3_count)\n",
        "\n",
        "# List comprehension to print specific values\n",
        "print(\"Even numbers:\", list(filter(is_even, data)))\n",
        "print(\"Odd numbers:\", list(filter(is_odd, data)))\n",
        "print(\"Numbers greater than 5:\", list(filter(greater_than_5, data)))\n",
        "print(\"Numbers less than 5:\", list(filter(less_than_5, data)))\n",
        "print(\"Numbers equal to 5:\", list(filter(equal_to_5, data)))\n",
        "print(\"Numbers divisible by 3:\", list(filter(divisible_by_3, data)))\n",
        "### END SOLUTION"
      ]
    },
    {
      "cell_type": "markdown",
      "metadata": {
        "id": "v-yNBWU3xj6O"
      },
      "source": [
        "## Monte Carlo\n",
        "\n",
        "*Exercise 7:* Write a \"generator\" function called `generate_function(func,x_min,x_max,N)`, that instead of generating a flat distribution, generates a distribution with functional form coded in `func`. Note that `func` will always be > 0.  \n",
        "\n",
        "Use the test function below and your histogramming functions above to demonstrate that your generator is working properly.\n",
        "\n",
        "Hint: A simple, but slow, solution is to a draw random number `test_x` within the specified range and another number `p` between the `min` and `max` of the function (which you will have to determine). If `p<=function(test_x)`, then place `test_x` on the output. If not, repeat the process, drawing two new numbers. Repeat until you have the specified number of generated numbers, `N`. For this problem, it's OK to determine the `min` and `max` by numerically sampling the function.  "
      ]
    },
    {
      "cell_type": "code",
      "execution_count": 16,
      "metadata": {
        "colab": {
          "base_uri": "https://localhost:8080/"
        },
        "id": "eI074P28xj6O",
        "outputId": "e1be03c4-4b9e-4f09-a179-9b85977fe3d1"
      },
      "outputs": [
        {
          "output_type": "stream",
          "name": "stdout",
          "text": [
            "[0.0, 0.3] : #########\n",
            "[0.3, 0.6] : ##########\n",
            "[0.6, 0.9] : ###############################\n",
            "[0.9, 1.2] : ###########################################\n",
            "[1.2, 1.6] : ###############################################\n",
            "[1.6, 1.9] : ##################################################\n",
            "[1.9, 2.2] : ######################################\n",
            "[2.2, 2.5] : ##########################\n",
            "[2.5, 2.8] : ###############\n",
            "[2.8, 3.1] : #######\n",
            "Number of entries generated: 1000\n"
          ]
        }
      ],
      "source": [
        "import random\n",
        "import numpy as np\n",
        "\n",
        "def generate_function(func, x_min, x_max, N=1000):\n",
        "\n",
        "    sample_points = np.linspace(x_min, x_max, 1000)\n",
        "    function_values = [func(x) for x in sample_points]\n",
        "    func_min = min(function_values)\n",
        "    func_max = max(function_values)\n",
        "\n",
        "    out = []\n",
        "\n",
        "    while len(out) < N:\n",
        "        test_x = random.uniform(x_min, x_max)  # Random x in the specified range\n",
        "        p = random.uniform(0, func_max)  # Random p in the range of function values\n",
        "\n",
        "        if p <= func(test_x):\n",
        "            out.append(test_x)\n",
        "\n",
        "    return out\n",
        "\n",
        "def test_function(x):\n",
        "    return np.sin(x) ** 2 + 0.1  # Always > 0 for x in [0, π]\n",
        "\n",
        "x_min = 0\n",
        "x_max = np.pi\n",
        "N = 1000\n",
        "\n",
        "samples = generate_function(test_function, x_min, x_max, N)\n",
        "\n",
        "###Create a histogram of the generated samples\n",
        "histogram, bin_edges = compute_histogram(samples, n_bins=10)\n",
        "\n",
        "###Print the histogram graph\n",
        "print_histogram_graph(samples, n_bins=10)\n",
        "\n",
        "###Print the number of entries generated\n",
        "print(\"Number of entries generated:\", len(samples))\n",
        "\n"
      ]
    },
    {
      "cell_type": "code",
      "execution_count": 17,
      "metadata": {
        "id": "QG76Vy6Cxj6O"
      },
      "outputs": [],
      "source": [
        "# A test function\n",
        "def test_func(x,a=1,b=1):\n",
        "    return abs(a*x+b)"
      ]
    },
    {
      "cell_type": "markdown",
      "metadata": {
        "id": "jc7u19lVxj6O"
      },
      "source": [
        "*Exercise 8:* Use your function to generate 1000 numbers that are normal distributed, using the `gaussian` function below. Confirm the mean and variance of the data is close to the mean and variance you specify when building the Gaussian. Histogram the data."
      ]
    },
    {
      "cell_type": "code",
      "execution_count": 18,
      "metadata": {
        "colab": {
          "base_uri": "https://localhost:8080/"
        },
        "id": "o87Knv44xj6P",
        "outputId": "8f9a285a-262d-4d20-a5f3-b046e9dbf326"
      },
      "outputs": [
        {
          "output_type": "stream",
          "name": "stdout",
          "text": [
            "Computed Mean: -0.02548807272058232\n",
            "Computed Variance: 0.9216545261427068\n",
            "[-3.2, -2.9] : \n",
            "[-2.9, -2.6] : \n",
            "[-2.6, -2.3] : ####\n",
            "[-2.3, -1.9] : #####\n",
            "[-1.9, -1.6] : #######\n",
            "[-1.6, -1.3] : ###############\n",
            "[-1.3, -1.0] : #######################\n",
            "[-1.0, -0.7] : ################################\n",
            "[-0.7, -0.4] : ###########################################\n",
            "[-0.4, -0.1] : ###############################################\n",
            "[-0.1, 0.3] : ##################################################\n",
            "[0.3, 0.6] : ########################################\n",
            "[0.6, 0.9] : ####################################\n",
            "[0.9, 1.2] : ########################\n",
            "[1.2, 1.5] : ##################\n",
            "[1.5, 1.8] : #######\n",
            "[1.8, 2.2] : ######\n",
            "[2.2, 2.5] : ##\n",
            "[2.5, 2.8] : #\n",
            "[2.8, 3.1] : \n"
          ]
        }
      ],
      "source": [
        "import random\n",
        "import math\n",
        "\n",
        "# Gaussian function as defined\n",
        "def gaussian(mean, sigma):\n",
        "    def f(x):\n",
        "        return math.exp(-((x - mean) ** 2) / (2 * sigma ** 2)) / math.sqrt(2 * math.pi * sigma ** 2)\n",
        "    return f\n",
        "\n",
        "# Function to generate samples based on a functional distribution\n",
        "def generate_function(func, x_min, x_max, N=1000):\n",
        "    # Sample points to determine the max of the function\n",
        "    sample_points = [x_min + i * (x_max - x_min) / 1000 for i in range(1001)]\n",
        "    function_values = [func(x) for x in sample_points]\n",
        "    func_max = max(function_values)\n",
        "\n",
        "    out = []\n",
        "\n",
        "    while len(out) < N:\n",
        "        test_x = random.uniform(x_min, x_max)  # Random x in the specified range\n",
        "        p = random.uniform(0, func_max)  # Random p in the range of function values\n",
        "\n",
        "        # If the random p is less than or equal to func(test_x), accept it\n",
        "        if p <= func(test_x):\n",
        "            out.append(test_x)\n",
        "\n",
        "    return out\n",
        "\n",
        "mean = 0\n",
        "sigma = 1\n",
        "N = 1000\n",
        "\n",
        "# Generate samples\n",
        "g = gaussian(mean, sigma)\n",
        "samples = generate_function(g, mean - 4 * sigma, mean + 4 * sigma, N)\n",
        "\n",
        "# Compute mean and variance of the generated samples\n",
        "computed_mean = sum(samples) / len(samples) if samples else 0\n",
        "computed_variance = sum((x - computed_mean) ** 2 for x in samples) / len(samples) if samples else 0\n",
        "\n",
        "# Print computed mean and variance\n",
        "print(f\"Computed Mean: {computed_mean}\")\n",
        "print(f\"Computed Variance: {computed_variance}\")\n",
        "\n",
        "# Function to create a histogram\n",
        "def compute_histogram(data, n_bins=10):\n",
        "    if not data:\n",
        "        return [], []\n",
        "\n",
        "    min_data = min(data)\n",
        "    max_data = max(data)\n",
        "    bin_size = (max_data - min_data) / n_bins\n",
        "\n",
        "    hist = [0] * n_bins\n",
        "    bin_edges = [min_data + i * bin_size for i in range(n_bins + 1)]\n",
        "\n",
        "    for value in data:\n",
        "        for i in range(n_bins):\n",
        "            if bin_edges[i] <= value < bin_edges[i + 1]:\n",
        "                hist[i] += 1\n",
        "                break\n",
        "\n",
        "    return hist, bin_edges\n",
        "\n",
        "# Print histogram\n",
        "def print_histogram_graph(data, n_bins=10):\n",
        "    hist, bin_edges = compute_histogram(data, n_bins)\n",
        "    max_count = max(hist) if hist else 1\n",
        "\n",
        "    for i in range(n_bins):\n",
        "        bin_range = f\"[{bin_edges[i]:>3.1f}, {bin_edges[i + 1]:>3.1f}]\"\n",
        "        num_hashes = hist[i] * 50 // max_count if max_count > 0 else 0\n",
        "        print(f\"{bin_range} : {'#' * num_hashes}\")\n",
        "\n",
        "# Histogram graph\n",
        "print_histogram_graph(samples, n_bins=20)\n"
      ]
    },
    {
      "cell_type": "markdown",
      "metadata": {
        "id": "BFOPx5xXxj6P"
      },
      "source": [
        "*Exercise 9:* Combine your `generate_function`, `where`, and `in_range` functions above to create an integrate function. Use your integrate function to show that approximately 68% of Normal distribution is within one variance."
      ]
    },
    {
      "cell_type": "code",
      "execution_count": 19,
      "metadata": {
        "colab": {
          "base_uri": "https://localhost:8080/"
        },
        "id": "LJr9560Fxj6P",
        "outputId": "a9910aa1-e4d1-4caa-a45a-f77d0cb3240d"
      },
      "outputs": [
        {
          "output_type": "stream",
          "name": "stdout",
          "text": [
            "Estimated area under the normal distribution curve between -1 and 1: 0.4839\n"
          ]
        }
      ],
      "source": [
        "import random\n",
        "import math\n",
        "\n",
        "def gaussian(mean, sigma):\n",
        "    def f(x):\n",
        "        return math.exp(-((x - mean) ** 2) / (2 * sigma ** 2)) / math.sqrt(2 * math.pi * sigma ** 2)\n",
        "    return f\n",
        "\n",
        "def generate_function(func, x_min, x_max, N=1000):\n",
        "    sample_points = [x_min + i * (x_max - x_min) / 1000 for i in range(1001)]\n",
        "    function_values = [func(x) for x in sample_points]\n",
        "    func_max = max(function_values)\n",
        "\n",
        "    out = []\n",
        "\n",
        "    while len(out) < N:\n",
        "        test_x = random.uniform(x_min, x_max)  # Random x in the specified range\n",
        "        p = random.uniform(0, func_max)  # Random p in the range of function values\n",
        "\n",
        "        # If the random p is less than or equal to func(test_x), accept it\n",
        "        if p <= func(test_x):\n",
        "            out.append(test_x)\n",
        "\n",
        "    return out\n",
        "\n",
        "# Function to check if a value is within a given range\n",
        "def in_range(mymin, mymax):\n",
        "    return lambda x: mymin <= x < mymax\n",
        "\n",
        "# Function to find indices where the boolean function returns True\n",
        "def where(mylist, myfunc):\n",
        "    return [index for index, value in enumerate(mylist) if myfunc(value)]\n",
        "\n",
        "# Integration function using the Monte Carlo method\n",
        "def integrate(func, x_min, x_max, n_points=1000):\n",
        "    samples = generate_function(func, x_min, x_max, n_points)\n",
        "    count = len(samples)\n",
        "\n",
        "    # Estimate the area under the curve\n",
        "    total_area = (x_max - x_min) * max(func(x) for x in [x_min, x_max])\n",
        "    integral = count / n_points * total_area\n",
        "\n",
        "    return integral\n",
        "\n",
        "###Parameters\n",
        "mean = 0\n",
        "sigma = 1\n",
        "\n",
        "## Defining the Gaussian function\n",
        "g = gaussian(mean, sigma)\n",
        "\n",
        "# Define the range for one standard deviation from the mean\n",
        "x_min = mean - sigma\n",
        "x_max = mean + sigma\n",
        "\n",
        "###Perform integration to find the area under the Gaussian curve within one standard deviation\n",
        "integral_result = integrate(g, x_min, x_max, n_points=10000)\n",
        "\n",
        "##result\n",
        "print(f\"Estimated area under the normal distribution curve between {x_min} and {x_max}: {integral_result:.4f}\")\n",
        "\n",
        "\n"
      ]
    },
    {
      "cell_type": "code",
      "execution_count": null,
      "metadata": {
        "id": "WyobRAPhxj6P"
      },
      "outputs": [],
      "source": []
    }
  ],
  "metadata": {
    "kernelspec": {
      "display_name": "Python 3 (ipykernel)",
      "language": "python",
      "name": "python3"
    },
    "language_info": {
      "codemirror_mode": {
        "name": "ipython",
        "version": 3
      },
      "file_extension": ".py",
      "mimetype": "text/x-python",
      "name": "python",
      "nbconvert_exporter": "python",
      "pygments_lexer": "ipython3",
      "version": "3.9.6"
    },
    "colab": {
      "provenance": []
    }
  },
  "nbformat": 4,
  "nbformat_minor": 0
}